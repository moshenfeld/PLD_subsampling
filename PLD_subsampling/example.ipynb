{
 "cells": [
  {
   "cell_type": "code",
   "execution_count": null,
   "id": "c7e28d5a",
   "metadata": {},
   "outputs": [],
   "source": [
    "# imports\n",
    "import os, sys, pathlib\n",
    "root = pathlib.Path.cwd()\n",
    "# Ensure sys.path contains the directory that holds the PLD_subsampling/ package directory\n",
    "if root.name == \"PLD_subsampling\" and (root / \"__init__.py\").exists():\n",
    "    # Notebook opened from inside the package dir → add parent\n",
    "    sys.path.insert(0, str(root.parent))\n",
    "elif (root / \"PLD_subsampling\").exists():\n",
    "    # Notebook opened from project root → add root\n",
    "    sys.path.insert(0, str(root))\n",
    "elif (root.parent / \"PLD_subsampling\").exists():\n",
    "    sys.path.insert(0, str(root.parent))\n",
    "\n",
    "import numpy as np\n",
    "import matplotlib.pyplot as plt\n",
    "from dp_accounting.pld import privacy_loss_distribution\n",
    "\n",
    "from PLD_subsampling.testing.test_utils import run_multiple_experiments, run_experiment\n",
    "from PLD_subsampling.testing.plot_utils import create_pmf_cdf_plot, create_epsilon_delta_plot, print_experiment_table\n",
    "from PLD_subsampling.testing.analytic_Gaussian import Gaussian_epsilon_for_delta\n",
    "from PLD_subsampling.wrappers.dp_accounting_wrappers import amplify_pld_separate_directions\n",
    "from PLD_subsampling.wrappers.dp_accounting_wrappers import scale_pld_infinity_mass"
   ]
  },
  {
   "cell_type": "markdown",
   "id": "eb1e0c16",
   "metadata": {},
   "source": [
    "# Run a single experiment ($\\sigma=0.5$, $\\lambda=0.1$, remove direction)"
   ]
  },
  {
   "cell_type": "code",
   "execution_count": null,
   "id": "8ecc64ed",
   "metadata": {},
   "outputs": [],
   "source": [
    "sigma = 0.5\n",
    "q = 0.1\n",
    "discretization = 1e-4\n",
    "deltas = np.array([10 ** (-k) for k in range(2, 13)], dtype=float)\n",
    "remove_direction = True\n",
    "versions = run_experiment(sigma=sigma, sampling_prob=q, discretization=discretization, delta_values=deltas, remove_direction=remove_direction)"
   ]
  },
  {
   "cell_type": "code",
   "execution_count": null,
   "id": "f96168ba",
   "metadata": {},
   "outputs": [],
   "source": [
    "print(f\"\\nσ={sigma}, q={q}, disc={discretization:g}, dir={'rem' if remove_direction else 'add'}\")\n",
    "eps_GT = [\n",
    "    Gaussian_epsilon_for_delta(sigma=sigma, sampling_prob=q, delta=float(d), remove_direction=remove_direction)\n",
    "    for d in deltas\n",
    "]\n",
    "print_experiment_table(deltas, versions, eps_GT)\n",
    "\n",
    "dir_text = 'rem' if remove_direction else 'add'\n",
    "fig_cdf = create_pmf_cdf_plot(versions=versions, title_suffix=f'sigma={sigma}, q={q}, disc={discretization:.0e}, dir={dir_text}')\n",
    "fig_cdf.show()"
   ]
  },
  {
   "cell_type": "code",
   "execution_count": null,
   "id": "8938fc73",
   "metadata": {},
   "outputs": [],
   "source": [
    "fig_eps = create_epsilon_delta_plot(delta_values=deltas, versions=versions, eps_GT=eps_GT, log_x_axis=True, log_y_axis=False, title_suffix=f'sigma={sigma}, q={q}, disc={discretization:.0e}, dir:{dir_text}')\n",
    "fig_eps.show()"
   ]
  },
  {
   "cell_type": "markdown",
   "id": "bf4ddb9e",
   "metadata": {},
   "source": [
    "# Run many experiments  ($\\sigma=2.0$, $\\lambda=0.5$)"
   ]
  },
  {
   "cell_type": "code",
   "execution_count": null,
   "id": "3e4188b5",
   "metadata": {},
   "outputs": [],
   "source": [
    "discretizations = [1e-4]\n",
    "q_values = [0.5]\n",
    "sigma_values = [2.0]\n",
    "remove_directions = [True, False]\n",
    "delta_values_arr = np.array([10 ** (-k) for k in range(2, 13)], dtype=float)\n",
    "results = run_multiple_experiments(discretizations, q_values, sigma_values, remove_directions, delta_values_arr)"
   ]
  },
  {
   "cell_type": "markdown",
   "id": "6225b269",
   "metadata": {},
   "source": [
    "### Results for remove direction"
   ]
  },
  {
   "cell_type": "code",
   "execution_count": null,
   "id": "60c458ad",
   "metadata": {},
   "outputs": [],
   "source": [
    "res = results[0]\n",
    "sigma = res['sigma']; q = res['q']; discretization = res['discretization']; remove_direction = res['remove_direction']\n",
    "versions = res['versions']; deltas = res['delta_values']\n",
    "print(f\"\\nσ={sigma}, q={q}, disc={discretization:g}, dir={'rem' if remove_direction else 'add'}\")\n",
    "eps_GT = [\n",
    "    Gaussian_epsilon_for_delta(sigma=sigma, sampling_prob=q, delta=float(d), remove_direction=remove_direction)\n",
    "    for d in deltas\n",
    "]\n",
    "print_experiment_table(deltas, versions, eps_GT)\n",
    "\n",
    "dir_text = 'rem' if remove_direction else 'add'\n",
    "fig_cdf = create_pmf_cdf_plot(versions=versions, title_suffix=f'sigma={sigma}, q={q}, disc={discretization:.0e}, dir={dir_text}')\n",
    "fig_cdf.show()"
   ]
  },
  {
   "cell_type": "markdown",
   "id": "b6309db8",
   "metadata": {},
   "source": [
    "### Results for add direction"
   ]
  },
  {
   "cell_type": "code",
   "execution_count": null,
   "id": "5abba242",
   "metadata": {},
   "outputs": [],
   "source": [
    "res = results[1]\n",
    "sigma = res['sigma']; q = res['q']; discretization = res['discretization']; remove_direction = res['remove_direction']\n",
    "versions = res['versions']; deltas = res['delta_values']\n",
    "print(f\"\\nσ={sigma}, q={q}, disc={discretization:g}, dir={'rem' if remove_direction else 'add'}\")\n",
    "eps_GT = [\n",
    "    Gaussian_epsilon_for_delta(sigma=sigma, sampling_prob=q, delta=float(d), remove_direction=remove_direction)\n",
    "    for d in deltas\n",
    "]\n",
    "print_experiment_table(deltas, versions, eps_GT)\n",
    "\n",
    "dir_text = 'rem' if remove_direction else 'add'\n",
    "fig_cdf = create_pmf_cdf_plot(versions=versions, title_suffix=f'sigma={sigma}, q={q}, disc={discretization:.0e}, dir={dir_text}')\n",
    "fig_cdf.show()"
   ]
  },
  {
   "cell_type": "markdown",
   "id": "af1f80d9",
   "metadata": {},
   "source": [
    "# Transform a dp_accounting PLD object"
   ]
  },
  {
   "cell_type": "code",
   "execution_count": null,
   "id": "d255503c",
   "metadata": {},
   "outputs": [],
   "source": [
    "# Correct PLD→PLD transformation example (works without private attributes)\n",
    "sigma = 1.0\n",
    "q = 0.05\n",
    "discretization = 1e-4\n",
    "\n",
    "# Build a base (non-amplified) PrivacyLossDistribution\n",
    "base_pld = privacy_loss_distribution.from_gaussian_mechanism(\n",
    "    standard_deviation=sigma,\n",
    "    sensitivity=1.0,\n",
    "    value_discretization_interval=discretization,\n",
    "    pessimistic_estimate=True,\n",
    ")\n",
    "# Amplify separately for remove/add\n",
    "amplified_pld = amplify_pld_separate_directions(base_pld=base_pld, sampling_prob=q)\n",
    "# Library-based transformation\n",
    "lib_amplified_pld =  privacy_loss_distribution.from_gaussian_mechanism(\n",
    "    standard_deviation=sigma,\n",
    "    sensitivity=1.0,\n",
    "    value_discretization_interval=discretization,\n",
    "    sampling_prob=q,\n",
    "    pessimistic_estimate=True,\n",
    ")\n",
    "\n",
    "#Compute epsilon for the delta array using the two amplified PLDs\n",
    "eps_GT = [\n",
    "    Gaussian_epsilon_for_delta(sigma=sigma, sampling_prob=q, delta=float(d), remove_direction=True)\n",
    "    for d in deltas\n",
    "]\n",
    "eps_our_rem = [\n",
    "    amplified_pld._pmf_remove.get_epsilon_for_delta(d)\n",
    "    for d in deltas\n",
    "]\n",
    "eps_our_add = [\n",
    "    amplified_pld._pmf_add.get_epsilon_for_delta(d)\n",
    "    for d in deltas\n",
    "]\n",
    "eps_our = np.maximum(eps_our_rem, eps_our_add)\n",
    "eps_lib = [\n",
    "    lib_amplified_pld.get_epsilon_for_delta(d)\n",
    "    for d in deltas\n",
    "]\n",
    "\n",
    "versions = [\n",
    "    {'name': 'Our', 'eps': eps_our},\n",
    "    {'name': 'Library', 'eps': eps_lib}\n",
    "]\n",
    "\n",
    "print_experiment_table(deltas, versions, eps_GT)\n",
    "\n",
    "plt.plot(deltas, eps_GT, label='GT', alpha=0.5, linestyle='--')\n",
    "plt.plot(deltas, eps_our, label='Our', alpha=0.5, linestyle='-')\n",
    "plt.plot(deltas, eps_lib, label='Library', alpha=0.5, linestyle='--')\n",
    "plt.xscale('log')\n",
    "plt.legend()\n",
    "plt.show()"
   ]
  },
  {
   "cell_type": "markdown",
   "id": "759482e0",
   "metadata": {},
   "source": [
    "# Increase infinity mass probability of a PLD"
   ]
  },
  {
   "cell_type": "code",
   "execution_count": null,
   "id": "3a6c5646",
   "metadata": {},
   "outputs": [],
   "source": [
    "# Compare delta(epsilon) using a fresh PLD (no reuse)\n",
    "sigma = 1.0\n",
    "q = 0.05\n",
    "discretization = 1e-4\n",
    "\n",
    "epsilons = np.linspace(0.05, 3.0, 20)\n",
    "added_delta = 1e-4\n",
    "\n",
    "pld = privacy_loss_distribution.from_gaussian_mechanism(\n",
    "    standard_deviation=sigma,\n",
    "    sensitivity=1.0,\n",
    "    value_discretization_interval=discretization,\n",
    "    sampling_prob=q,\n",
    "    pessimistic_estimate=True,\n",
    ")\n",
    "pld_scaled = scale_pld_infinity_mass(pld, added_delta)\n",
    "\n",
    "# Compute delta(ε) using PLD API\n",
    "delta_before = np.array([pld.get_delta_for_epsilon(float(e)) for e in epsilons])\n",
    "delta_after = np.array([pld_scaled.get_delta_for_epsilon(float(e)) for e in epsilons])\n",
    "\n",
    "# Plot\n",
    "plt.figure(figsize=(6,4))\n",
    "plt.plot(epsilons, delta_before, label='delta_before', lw=2)\n",
    "plt.plot(epsilons, delta_after, label='delta_after', lw=2, linestyle='--')\n",
    "plt.yscale('log')\n",
    "plt.xlabel('epsilon')\n",
    "plt.ylabel('delta(epsilon)')\n",
    "plt.title('PLD: Delta(epsilon) before vs after scaling infinity mass (fresh PLD)')\n",
    "plt.legend(); plt.grid(True, which='both', ls=':'); plt.show()\n"
   ]
  }
 ],
 "metadata": {
  "kernelspec": {
   "display_name": ".venv",
   "language": "python",
   "name": "python3"
  },
  "language_info": {
   "codemirror_mode": {
    "name": "ipython",
    "version": 3
   },
   "file_extension": ".py",
   "mimetype": "text/x-python",
   "name": "python",
   "nbconvert_exporter": "python",
   "pygments_lexer": "ipython3",
   "version": "3.11.6"
  }
 },
 "nbformat": 4,
 "nbformat_minor": 5
}
