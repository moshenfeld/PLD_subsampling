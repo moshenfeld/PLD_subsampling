{
 "cells": [
  {
   "cell_type": "code",
   "execution_count": 6,
   "id": "66267cbc",
   "metadata": {},
   "outputs": [
    {
     "ename": "ModuleNotFoundError",
     "evalue": "No module named 'PLD_subsampling.testing'; 'PLD_subsampling' is not a package",
     "output_type": "error",
     "traceback": [
      "\u001b[31m---------------------------------------------------------------------------\u001b[39m",
      "\u001b[31mModuleNotFoundError\u001b[39m                       Traceback (most recent call last)",
      "\u001b[36mCell\u001b[39m\u001b[36m \u001b[39m\u001b[32mIn[6]\u001b[39m\u001b[32m, line 10\u001b[39m\n\u001b[32m      7\u001b[39m     sys.path.insert(\u001b[32m0\u001b[39m, \u001b[38;5;28mstr\u001b[39m(root.parent))\n\u001b[32m      9\u001b[39m \u001b[38;5;28;01mimport\u001b[39;00m\u001b[38;5;250m \u001b[39m\u001b[34;01mnumpy\u001b[39;00m\u001b[38;5;250m \u001b[39m\u001b[38;5;28;01mas\u001b[39;00m\u001b[38;5;250m \u001b[39m\u001b[34;01mnp\u001b[39;00m\n\u001b[32m---> \u001b[39m\u001b[32m10\u001b[39m \u001b[38;5;28;01mfrom\u001b[39;00m\u001b[38;5;250m \u001b[39m\u001b[34;01mPLD_subsampling\u001b[39;00m\u001b[34;01m.\u001b[39;00m\u001b[34;01mtesting\u001b[39;00m\u001b[34;01m.\u001b[39;00m\u001b[34;01mtest_utils\u001b[39;00m\u001b[38;5;250m \u001b[39m\u001b[38;5;28;01mimport\u001b[39;00m run_multiple_experiments, run_experiment\n\u001b[32m     11\u001b[39m \u001b[38;5;28;01mfrom\u001b[39;00m\u001b[38;5;250m \u001b[39m\u001b[34;01mPLD_subsampling\u001b[39;00m\u001b[34;01m.\u001b[39;00m\u001b[34;01mtesting\u001b[39;00m\u001b[34;01m.\u001b[39;00m\u001b[34;01mplot_utils\u001b[39;00m\u001b[38;5;250m \u001b[39m\u001b[38;5;28;01mimport\u001b[39;00m create_pmf_cdf_plot, create_epsilon_delta_plot, print_experiment_table\n\u001b[32m     12\u001b[39m \u001b[38;5;28;01mfrom\u001b[39;00m\u001b[38;5;250m \u001b[39m\u001b[34;01mPLD_subsampling\u001b[39;00m\u001b[34;01m.\u001b[39;00m\u001b[34;01mtesting\u001b[39;00m\u001b[34;01m.\u001b[39;00m\u001b[34;01manalytic_Gaussian\u001b[39;00m\u001b[38;5;250m \u001b[39m\u001b[38;5;28;01mimport\u001b[39;00m Gaussian_epsilon_for_delta\n",
      "\u001b[31mModuleNotFoundError\u001b[39m: No module named 'PLD_subsampling.testing'; 'PLD_subsampling' is not a package"
     ]
    }
   ],
   "source": [
    "# imports\n",
    "import os, sys, pathlib\n",
    "root = pathlib.Path.cwd()\n",
    "if (root / \"PLD_subsampling\").exists():\n",
    "    sys.path.insert(0, str(root))\n",
    "elif (root.parent / \"PLD_subsampling\").exists():\n",
    "    sys.path.insert(0, str(root.parent))\n",
    "\n",
    "import numpy as np\n",
    "from PLD_subsampling.testing.test_utils import run_multiple_experiments, run_experiment\n",
    "from PLD_subsampling.testing.plot_utils import create_pmf_cdf_plot, create_epsilon_delta_plot, print_experiment_table\n",
    "from PLD_subsampling.testing.analytic_Gaussian import Gaussian_epsilon_for_delta"
   ]
  },
  {
   "cell_type": "markdown",
   "id": "eb1e0c16",
   "metadata": {},
   "source": [
    "# Run a single experiment ($\\sigma=0.5$, $\\lambda=0.1$, remove direction)"
   ]
  },
  {
   "cell_type": "code",
   "execution_count": null,
   "id": "8ecc64ed",
   "metadata": {},
   "outputs": [
    {
     "ename": "NameError",
     "evalue": "name 'np' is not defined",
     "output_type": "error",
     "traceback": [
      "\u001b[31m---------------------------------------------------------------------------\u001b[39m",
      "\u001b[31mNameError\u001b[39m                                 Traceback (most recent call last)",
      "\u001b[36mCell\u001b[39m\u001b[36m \u001b[39m\u001b[32mIn[2]\u001b[39m\u001b[32m, line 4\u001b[39m\n\u001b[32m      2\u001b[39m sampling_prob = \u001b[32m0.1\u001b[39m\n\u001b[32m      3\u001b[39m discretization = \u001b[32m1e-4\u001b[39m\n\u001b[32m----> \u001b[39m\u001b[32m4\u001b[39m delta_values = \u001b[43mnp\u001b[49m.array([\u001b[32m10\u001b[39m ** (-k) \u001b[38;5;28;01mfor\u001b[39;00m k \u001b[38;5;129;01min\u001b[39;00m \u001b[38;5;28mrange\u001b[39m(\u001b[32m2\u001b[39m, \u001b[32m13\u001b[39m)], dtype=\u001b[38;5;28mfloat\u001b[39m)\n\u001b[32m      5\u001b[39m remove_direction = \u001b[38;5;28;01mTrue\u001b[39;00m\n\u001b[32m      6\u001b[39m res = run_experiment(sigma=sigma, sampling_prob=sampling_prob, discretization=discretization, delta_values=delta_values, remove_direction=remove_direction)\n",
      "\u001b[31mNameError\u001b[39m: name 'np' is not defined"
     ]
    }
   ],
   "source": [
    "sigma = 0.5\n",
    "q = 0.1\n",
    "discretization = 1e-4\n",
    "deltas = np.array([10 ** (-k) for k in range(2, 13)], dtype=float)\n",
    "remove_direction = True\n",
    "versions = run_experiment(sigma=sigma, sampling_prob=q, discretization=discretization, delta_values=deltas, remove_direction=remove_direction)"
   ]
  },
  {
   "cell_type": "code",
   "execution_count": null,
   "id": "f96168ba",
   "metadata": {},
   "outputs": [],
   "source": [
    "print(f\"\\nσ={sigma}, q={q}, disc={discretization:g}, dir={'rem' if remove_direction else 'add'}\")\n",
    "eps_GT = [\n",
    "    Gaussian_epsilon_for_delta(sigma=sigma, sampling_prob=q, delta=float(d), remove_direction=remove_direction)\n",
    "    for d in deltas\n",
    "]\n",
    "print_experiment_table(deltas, versions, eps_GT)\n",
    "\n",
    "fig_cdf = create_pmf_cdf_plot(versions=versions, title_suffix=f'sigma={sigma}, q={q}, disc={discretization:.0e}, dir={'rem' if remove_direction else 'add'}')\n",
    "fig_cdf.show()"
   ]
  },
  {
   "cell_type": "code",
   "execution_count": null,
   "id": "8938fc73",
   "metadata": {},
   "outputs": [],
   "source": [
    "fig_eps = create_epsilon_delta_plot(delta_values=deltas, versions=versions, eps_GT=eps_GT, log_x_axis=True, log_y_axis=False, title_suffix=f'sigma={sigma}, q={q}, disc={discretization:.0e}, dir:{'rem' if remove_direction else 'add'}')\n",
    "fig_eps.show()"
   ]
  },
  {
   "cell_type": "markdown",
   "id": "bf4ddb9e",
   "metadata": {},
   "source": [
    "# Run many experiments  ($\\sigma=2.0$, $\\lambda=0.5$)"
   ]
  },
  {
   "cell_type": "code",
   "execution_count": null,
   "id": "3e4188b5",
   "metadata": {},
   "outputs": [],
   "source": [
    "discretizations = [1e-4]\n",
    "q_values = [0.5]\n",
    "sigma_values = [2.0]\n",
    "remove_directions = [True, False]\n",
    "delta_values_arr = np.array([10 ** (-k) for k in range(2, 13)], dtype=float)\n",
    "results = run_multiple_experiments(discretizations, q_values, sigma_values, remove_directions, delta_values_arr)"
   ]
  },
  {
   "cell_type": "markdown",
   "id": "6225b269",
   "metadata": {},
   "source": [
    "### Results for remove direction"
   ]
  },
  {
   "cell_type": "code",
   "execution_count": null,
   "id": "60c458ad",
   "metadata": {},
   "outputs": [],
   "source": [
    "res = results[0]\n",
    "sigma = res['sigma']; q = res['q']; discretization = res['discretization']; remove_direction = res['remove_direction']\n",
    "versions = res['versions']; deltas = res['delta_values']\n",
    "print(f\"\\nσ={sigma}, q={q}, disc={discretization:g}, dir={'rem' if remove_direction else 'add'}\")\n",
    "eps_GT = [\n",
    "    Gaussian_epsilon_for_delta(sigma=sigma, sampling_prob=q, delta=float(d), remove_direction=remove_direction)\n",
    "    for d in deltas\n",
    "]\n",
    "print_experiment_table(deltas, versions, eps_GT)\n",
    "\n",
    "fig_cdf = create_pmf_cdf_plot(versions=versions, title_suffix=f'sigma={sigma}, q={q}, disc={discretization:.0e}, dir={'rem' if remove_direction else 'add'}')\n",
    "fig_cdf.show()"
   ]
  },
  {
   "cell_type": "markdown",
   "id": "b6309db8",
   "metadata": {},
   "source": [
    "### Results for add direction"
   ]
  },
  {
   "cell_type": "code",
   "execution_count": null,
   "id": "5abba242",
   "metadata": {},
   "outputs": [],
   "source": [
    "res = results[1]\n",
    "sigma = res['sigma']; q = res['q']; discretization = res['discretization']; remove_direction = res['remove_direction']\n",
    "versions = res['versions']; deltas = res['delta_values']\n",
    "print(f\"\\nσ={sigma}, q={q}, disc={discretization:g}, dir={'rem' if remove_direction else 'add'}\")\n",
    "eps_GT = [\n",
    "    Gaussian_epsilon_for_delta(sigma=sigma, sampling_prob=q, delta=float(d), remove_direction=remove_direction)\n",
    "    for d in deltas\n",
    "]\n",
    "print_experiment_table(deltas, versions, eps_GT)\n",
    "\n",
    "fig_cdf = create_pmf_cdf_plot(versions=versions, title_suffix=f'sigma={sigma}, q={q}, disc={discretization:.0e}, dir={'rem' if remove_direction else 'add'}')\n",
    "fig_cdf.show()"
   ]
  },
  {
   "cell_type": "markdown",
   "id": "af1f80d9",
   "metadata": {},
   "source": [
    "# Transform a dp_accounting PLD object"
   ]
  },
  {
   "cell_type": "code",
   "execution_count": null,
   "id": "709d62c4",
   "metadata": {},
   "outputs": [],
   "source": [
    "# PLD to PLD transformation (wrappers)\n",
    "from PLD_subsampling.wrappers.dp_accounting_wrappers import (\n",
    "    create_pld_and_extract_pmf,\n",
    "    dp_accounting_pmf_to_loss_probs,\n",
    "    loss_probs_to_dp_accounting_pmf,\n",
    "    amplify_pld_separate_directions,\n",
    ")\n",
    "\n",
    "sigma = 1.0\n",
    "q = 0.2\n",
    "discretization = 1e-4\n",
    "# Base non-amplified PLD\n",
    "base_pmf = create_pld_and_extract_pmf(standard_deviation=sigma, sensitivity=1.0, sampling_prob=1.0, value_discretization_interval=discretization, remove_direction=True)\n",
    "# Amplify separately for remove/add directions\n",
    "amplified = amplify_pld_separate_directions(base_pld=base_pmf._parent, sampling_prob=q)\n",
    "remove_amplified = amplified['pmf_remove']\n",
    "add_amplified = amplified['pmf_add']\n",
    "\n",
    "# Convert to losses/probs for inspection/plotting\n",
    "losses_rem, probs_rem = dp_accounting_pmf_to_loss_probs(remove_amplified)\n",
    "losses_add, probs_add = dp_accounting_pmf_to_loss_probs(add_amplified)\n",
    "print(f\"Remove direction: grid size={len(losses_rem)}, mass={probs_rem.sum():.6f}\")\n",
    "print(f\"Add direction   : grid size={len(losses_add)}, mass={probs_add.sum():.6f}\")\n"
   ]
  }
 ],
 "metadata": {
  "kernelspec": {
   "display_name": ".venv",
   "language": "python",
   "name": "python3"
  },
  "language_info": {
   "codemirror_mode": {
    "name": "ipython",
    "version": 3
   },
   "file_extension": ".py",
   "mimetype": "text/x-python",
   "name": "python",
   "nbconvert_exporter": "python",
   "pygments_lexer": "ipython3",
   "version": "3.11.6"
  }
 },
 "nbformat": 4,
 "nbformat_minor": 5
}
